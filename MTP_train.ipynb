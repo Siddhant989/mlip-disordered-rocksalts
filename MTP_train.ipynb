{
 "cells": [
  {
   "cell_type": "code",
   "execution_count": null,
   "metadata": {},
   "outputs": [],
   "source": [
    "#MTP MLIP \n",
    "from monty.serialization import loadfn\n",
    "from monty.serialization import dumpfn"
   ]
  },
  {
   "cell_type": "code",
   "execution_count": null,
   "metadata": {},
   "outputs": [],
   "source": [
    "#import the training and test data from Json data folder\n",
    "dict_list = loadfn('/Json_data_10842/8672train.json')                  \n",
    "test_dict_list = loadfn('/Json_data_10842/1085test.json')\n",
    "\n",
    "train_structures = [d['structure'] for d in dict_list]\n",
    "train_energies = [d['outputs']['energy'] for d in dict_list]\n",
    "train_forces = [d['outputs']['forces'] for d in dict_list]\n",
    "\n",
    "test_structures = [d['structure'] for d in test_dict_list]\n",
    "test_energies = [d['outputs']['energy'] for d in test_dict_list]\n",
    "test_forces = [d['outputs']['forces'] for d in test_dict_list]"
   ]
  },
  {
   "cell_type": "code",
   "execution_count": null,
   "metadata": {},
   "outputs": [],
   "source": [
    "#Get time information starting time\n",
    "import datetime\n",
    "ct1 = datetime.datetime.now()\n",
    "\n",
    "#import MTP potential form maml package\n",
    "from maml.apps.pes import MTPotential\n",
    "mtp = MTPotential()\n",
    "mtp.train(train_structures=train_structures, train_energies=train_energies,\n",
    "          train_forces=train_forces, train_stresses = None, max_dist=4, stress_weight=0)\n",
    "\n",
    "#Get time after compleation of the tranining\n",
    "ct2 = datetime.datetime.now()\n",
    "\n",
    "print(ct1,ct2)"
   ]
  },
  {
   "cell_type": "code",
   "execution_count": null,
   "metadata": {},
   "outputs": [],
   "source": [
    "#to get the erros and data in .csv file for training data\n",
    "from sklearn.metrics import mean_absolute_error\n",
    "import numpy as np\n",
    "\n",
    "E_p = np.array(df_predict[df_predict['dtype'] == 'energy']['y_orig'])/df_predict[df_predict['dtype'] == 'energy']['n']\n",
    "E_o = np.array(df_orig[df_orig['dtype'] == 'energy']['y_orig'])/df_orig[df_orig['dtype'] == 'energy']['n']\n",
    "print(\"MAE of training energy prediction is {} meV/atom\".format(mean_absolute_error(E_o,E_p)*1000))\n",
    "\n",
    "F_p = np.array(df_predict[df_predict['dtype'] == 'force']['y_orig'])/df_predict[df_predict['dtype'] == 'force']['n']\n",
    "F_o = np.array(df_orig[df_orig['dtype'] == 'force']['y_orig'])/df_orig[df_orig['dtype'] == 'force']['n']\n",
    "print(\"MAE of training force prediction is {} eV/Å\".format(mean_absolute_error(F_o,F_p)))\n",
    "from sklearn.metrics import mean_squared_error\n",
    "print(\"RMSE of training energy prediction is {} eV/atom\".format(mean_squared_error(E_o,E_p,squared=False)))\n",
    "print(\"RMSE of training force prediction is {} eV/atom\".format(mean_squared_error(F_o,F_p,squared=False)))\n",
    "\n",
    "#to store the data in .csv file\n",
    "df_predict.to_csv('mtp_train_predict.csv')\n",
    "df_orig.to_csv('mtp_train_orig.csv')"
   ]
  },
  {
   "cell_type": "code",
   "execution_count": null,
   "metadata": {},
   "outputs": [],
   "source": [
    "#test\n",
    "#import datetime\n",
    "ct3 = datetime.datetime.now()\n",
    "\n",
    "df_orig, df_predict = mtp.evaluate(test_structures=test_structures, \n",
    "                                   test_energies=test_energies, \n",
    "                                   test_forces=test_forces, test_stresses=None)\n",
    "\n",
    "ct4 = datetime.datetime.now()"
   ]
  },
  {
   "cell_type": "code",
   "execution_count": null,
   "metadata": {},
   "outputs": [],
   "source": [
    "#to get the erros and data in .csv file for test data\n",
    "\n",
    "from sklearn.metrics import mean_absolute_error\n",
    "import numpy as np\n",
    "\n",
    "E_p = np.array(df_predict[df_predict['dtype'] == 'energy']['y_orig'])/df_predict[df_predict['dtype'] == 'energy']['n']\n",
    "E_o = np.array(df_orig[df_orig['dtype'] == 'energy']['y_orig'])/df_orig[df_orig['dtype'] == 'energy']['n']\n",
    "print(\"MAE of training energy prediction is {} meV/atom\".format(mean_absolute_error(E_o,E_p)*1000))\n",
    "\n",
    "F_p = np.array(df_predict[df_predict['dtype'] == 'force']['y_orig'])/df_predict[df_predict['dtype'] == 'force']['n']\n",
    "F_o = np.array(df_orig[df_orig['dtype'] == 'force']['y_orig'])/df_orig[df_orig['dtype'] == 'force']['n']\n",
    "print(\"MAE of training force prediction is {} eV/Å\".format(mean_absolute_error(F_o,F_p)))\n",
    "\n",
    "from sklearn.metrics import mean_squared_error\n",
    "print(\"RMSE of test energy prediction is {} eV/atom\".format(mean_squared_error(E_o,E_p,squared=False)))\n",
    "print(\"RMSE of test force prediction is {} eV/atom\".format(mean_squared_error(F_o,F_p,squared=False)))\n",
    "\n",
    "#to store the data in .csv file\n",
    "df_predict.to_csv('mtp_test_predict.csv')\n",
    "df_orig.to_csv('mtp_test_orig.csv')"
   ]
  }
 ],
 "metadata": {
  "language_info": {
   "name": "python"
  },
  "orig_nbformat": 4
 },
 "nbformat": 4,
 "nbformat_minor": 2
}
