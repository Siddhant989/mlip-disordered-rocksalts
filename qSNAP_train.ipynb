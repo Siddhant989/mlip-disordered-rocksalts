{
 "cells": [
  {
   "cell_type": "code",
   "execution_count": null,
   "metadata": {},
   "outputs": [],
   "source": [
    "##qSNAP MLIP\n",
    "from monty.serialization import loadfn\n",
    "from monty.serialization import dumpfn"
   ]
  },
  {
   "cell_type": "code",
   "execution_count": null,
   "metadata": {},
   "outputs": [],
   "source": [
    "#import the training and test data from Json data folder\n",
    "dict_list = loadfn('/Json_data_10842/8672train.json')\n",
    "test_dict_list = loadfn('/Json_data_10842/1085test.json')\n",
    "\n",
    "train_structures = [d['structure'] for d in dict_list]\n",
    "train_energies = [d['outputs']['energy'] for d in dict_list]\n",
    "train_forces = [d['outputs']['forces'] for d in dict_list]\n",
    "\n",
    "test_structures = [d['structure'] for d in test_dict_list]\n",
    "test_energies = [d['outputs']['energy'] for d in test_dict_list]\n",
    "test_forces = [d['outputs']['forces'] for d in test_dict_list]"
   ]
  },
  {
   "cell_type": "code",
   "execution_count": null,
   "metadata": {},
   "outputs": [],
   "source": [
    "import numpy as np\n",
    "from maml.utils import pool_from, convert_docs\n",
    "\n",
    "train_pool = pool_from(train_structures, train_energies, train_forces)\n",
    "_, df = convert_docs(train_pool)\n",
    "\n",
    "weights = np.ones(len(df['dtype']), )\n",
    "\n",
    "# set the weights for energy equal to 100\n",
    "weights[df['dtype'] == 'energy'] = 100"
   ]
  },
  {
   "cell_type": "code",
   "execution_count": null,
   "metadata": {},
   "outputs": [],
   "source": [
    "from maml.base import SKLModel\n",
    "from maml.describers import BispectrumCoefficients\n",
    "from sklearn.linear_model import LinearRegression\n",
    "from maml.apps.pes import SNAPotential\n",
    "\n",
    "element_profile = {'Li': {'r': 5.0, 'w': 1}, 'Mn': {'r': 5.0, 'w': 1}, 'Ni': {'r': 5.0, 'w': 1}, \n",
    "                   'O': {'r': 5.0, 'w': 1}, 'Sc': {'r': 5.0, 'w': 1}, 'Ti': {'r': 5.0, 'w': 1},\n",
    "                  'V': {'r': 5.0, 'w': 1}, 'Cr': {'r': 5.0, 'w': 1}, 'Fe': {'r': 5.0, 'w': 1},\n",
    "                  'Co': {'r': 5.0, 'w': 1}, 'Cu': {'r': 5.0, 'w': 1}}\n",
    "describer = BispectrumCoefficients(rcutfac=0.5, twojmax=12, element_profile=element_profile, \n",
    "                                   quadratic=True, pot_fit=True)\n",
    "model = SKLModel(describer=describer, model=LinearRegression())\n",
    "qsnap = SNAPotential(model=model)\n",
    "\n",
    "import datetime\n",
    "ct1 = datetime.datetime.now()\n",
    "\n",
    "qsnap.train(train_structures, train_energies, train_forces, sample_weight=weights)\n",
    "\n",
    "ct2 = datetime.datetime.now()"
   ]
  },
  {
   "cell_type": "code",
   "execution_count": null,
   "metadata": {},
   "outputs": [],
   "source": [
    "#to get the erros and data in .csv file for training data\n",
    "from sklearn.metrics import mean_absolute_error\n",
    "import numpy as np\n",
    "\n",
    "E_p = np.array(df_predict[df_predict['dtype'] == 'energy']['y_orig'])/df_predict[df_predict['dtype'] == 'energy']['n']\n",
    "E_o = np.array(df_orig[df_orig['dtype'] == 'energy']['y_orig'])/df_orig[df_orig['dtype'] == 'energy']['n']\n",
    "print(\"MAE of training energy prediction is {} meV/atom\".format(mean_absolute_error(E_o,E_p)*1000))\n",
    "\n",
    "F_p = np.array(df_predict[df_predict['dtype'] == 'force']['y_orig'])/df_predict[df_predict['dtype'] == 'force']['n']\n",
    "F_o = np.array(df_orig[df_orig['dtype'] == 'force']['y_orig'])/df_orig[df_orig['dtype'] == 'force']['n']\n",
    "print(\"MAE of training force prediction is {} eV/Å\".format(mean_absolute_error(F_o,F_p)))\n",
    "\n",
    "from sklearn.metrics import mean_squared_error\n",
    "print(\"RMSE of training energy prediction is {} eV/atom\".format(mean_squared_error(E_o,E_p,squared=False)))\n",
    "print(\"RMSE of training force prediction is {} eV/atom\".format(mean_squared_error(F_o,F_p,squared=False)))\n",
    "\n",
    "df_predict.to_csv('qsnap_train_predict.csv')\n",
    "df_orig.to_csv('qsnap_train_orig.csv')"
   ]
  },
  {
   "cell_type": "code",
   "execution_count": null,
   "metadata": {},
   "outputs": [],
   "source": [
    "df_orig, df_predict = qsnap.evaluate(test_structures=test_structures, \n",
    "                                    test_energies=test_energies,\n",
    "                                    test_forces=test_forces, test_stresses=None)"
   ]
  },
  {
   "cell_type": "code",
   "execution_count": null,
   "metadata": {},
   "outputs": [],
   "source": [
    "#to get the erros and to save data in .csv file for training data\n",
    "from sklearn.metrics import mean_absolute_error\n",
    "import numpy as np\n",
    "\n",
    "E_p = np.array(df_predict[df_predict['dtype'] == 'energy']['y_orig'])/df_predict[df_predict['dtype'] == 'energy']['n']\n",
    "E_o = np.array(df_orig[df_orig['dtype'] == 'energy']['y_orig'])/df_orig[df_orig['dtype'] == 'energy']['n']\n",
    "print(\"MAE of test energy prediction is {} meV/atom\".format(mean_absolute_error(E_o,E_p)*1000))\n",
    "\n",
    "F_p = np.array(df_predict[df_predict['dtype'] == 'force']['y_orig'])/df_predict[df_predict['dtype'] == 'force']['n']\n",
    "F_o = np.array(df_orig[df_orig['dtype'] == 'force']['y_orig'])/df_orig[df_orig['dtype'] == 'force']['n']\n",
    "print(\"MAE of test force prediction is {} eV/Å\".format(mean_absolute_error(F_o,F_p)))\n",
    "\n",
    "from sklearn.metrics import mean_squared_error\n",
    "print(\"RMSE of test energy prediction is {} eV/atom\".format(mean_squared_error(E_o,E_p,squared=False)))\n",
    "print(\"RMSE of test energy prediction is {} eV/atom\".format(mean_squared_error(F_o,F_p,squared=False)))\n",
    "\n",
    "df_predict.to_csv('qsnap_test_predict.csv')\n",
    "df_orig.to_csv('qsnap_test_orig.csv')"
   ]
  }
 ],
 "metadata": {
  "language_info": {
   "name": "python"
  },
  "orig_nbformat": 4
 },
 "nbformat": 4,
 "nbformat_minor": 2
}
