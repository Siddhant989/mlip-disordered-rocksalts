{
 "cells": [
  {
   "cell_type": "code",
   "execution_count": 2,
   "id": "bebc10d7",
   "metadata": {},
   "outputs": [],
   "source": [
    "def searchtext(path):\n",
    "    os.chdir(path)\n",
    "    files = os.listdir()\n",
    "    for file_name in files:\n",
    "        print(file_name)"
   ]
  },
  {
   "cell_type": "code",
   "execution_count": null,
   "id": "c1f0eebd",
   "metadata": {},
   "outputs": [],
   "source": [
    "searchtext()"
   ]
  },
  {
   "cell_type": "code",
   "execution_count": 3,
   "id": "5d292983",
   "metadata": {},
   "outputs": [],
   "source": [
    "import os"
   ]
  },
  {
   "cell_type": "code",
   "execution_count": 4,
   "id": "e05966f8",
   "metadata": {},
   "outputs": [],
   "source": [
    "os.chdir('../xsf_test/')"
   ]
  },
  {
   "cell_type": "code",
   "execution_count": 5,
   "id": "c896786c",
   "metadata": {},
   "outputs": [],
   "source": [
    "files = os.listdir()\n"
   ]
  },
  {
   "cell_type": "code",
   "execution_count": 6,
   "id": "194e9782",
   "metadata": {},
   "outputs": [
    {
     "data": {
      "text/plain": [
       "1087"
      ]
     },
     "execution_count": 6,
     "metadata": {},
     "output_type": "execute_result"
    }
   ],
   "source": [
    "len(files)"
   ]
  },
  {
   "cell_type": "code",
   "execution_count": null,
   "id": "dbf0823b",
   "metadata": {},
   "outputs": [],
   "source": []
  }
 ],
 "metadata": {
  "kernelspec": {
   "display_name": "Python 3 (ipykernel)",
   "language": "python",
   "name": "python3"
  },
  "language_info": {
   "codemirror_mode": {
    "name": "ipython",
    "version": 3
   },
   "file_extension": ".py",
   "mimetype": "text/x-python",
   "name": "python",
   "nbconvert_exporter": "python",
   "pygments_lexer": "ipython3",
   "version": "3.9.6"
  }
 },
 "nbformat": 4,
 "nbformat_minor": 5
}
