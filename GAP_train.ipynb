{
 "cells": [
  {
   "cell_type": "code",
   "execution_count": null,
   "metadata": {},
   "outputs": [],
   "source": [
    "#GAP MLIP\n",
    "from monty.serialization import loadfn\n",
    "from monty.serialization import dumpfn"
   ]
  },
  {
   "cell_type": "code",
   "execution_count": null,
   "metadata": {},
   "outputs": [],
   "source": [
    "#import the training and test data from Json data folder\n",
    "dict_list = loadfn('/Json_data_10842/8672train.json')\n",
    "test_dict_list = loadfn('/Json_data_10842/1085test.json')\n",
    "\n",
    "train_structures = [d['structure'] for d in dict_list]\n",
    "train_energies = [d['outputs']['energy'] for d in dict_list]\n",
    "train_forces = [d['outputs']['forces'] for d in dict_list]\n",
    "\n",
    "test_structures = [d['structure'] for d in test_dict_list]\n",
    "test_energies = [d['outputs']['energy'] for d in test_dict_list]\n",
    "test_forces = [d['outputs']['forces'] for d in test_dict_list]"
   ]
  },
  {
   "cell_type": "code",
   "execution_count": null,
   "metadata": {},
   "outputs": [],
   "source": [
    "#Get time information starting time\n",
    "import datetime\n",
    "ct1 = datetime.datetime.now()\n",
    "\n",
    "#import MTP potential form maml package\n",
    "from maml.apps.pes import GAPotential\n",
    "gap = GAPotential()\n",
    "\n",
    "gap.train(train_structures=train_structures, train_energies=train_energies, sparse_method='cur_points', \n",
    "          train_forces=train_forces, use_forces=False, l_max=4, n_max=4, n_sparse=200, cutoff=5.0)\n",
    "\n",
    "ct2 = datetime.datetime.now()\n",
    "print(ct3,ct4)"
   ]
  },
  {
   "cell_type": "code",
   "execution_count": null,
   "metadata": {},
   "outputs": [],
   "source": [
    "from sklearn.metrics import mean_absolute_error\n",
    "import numpy as np\n",
    "\n",
    "E_p = np.array(df_predict[df_predict['dtype'] == 'energy']['y_orig'])/df_predict[df_predict['dtype'] == 'energy']['n']\n",
    "E_o = np.array(df_orig[df_orig['dtype'] == 'energy']['y_orig'])/df_orig[df_orig['dtype'] == 'energy']['n']\n",
    "print(\"MAE of training energy prediction is {} meV/atom\".format(mean_absolute_error(E_o,E_p)*1000))\n",
    "\n",
    "F_p = np.array(df_predict[df_predict['dtype'] == 'force']['y_orig'])/df_predict[df_predict['dtype'] == 'force']['n']\n",
    "F_o = np.array(df_orig[df_orig['dtype'] == 'force']['y_orig'])/df_orig[df_orig['dtype'] == 'force']['n']\n",
    "print(\"MAE of training force prediction is {} eV/Å\".format(mean_absolute_error(F_o,F_p)))\n",
    "\n",
    "from sklearn.metrics import mean_squared_error\n",
    "print(\"RMSE of training energy prediction is {} eV/atom\".format(mean_squared_error(E_o,E_p,squared=False)))\n",
    "print(\"RMSE of training force prediction is {} eV/atom\".format(mean_squared_error(F_o,F_p,squared=False)))"
   ]
  },
  {
   "cell_type": "code",
   "execution_count": null,
   "metadata": {},
   "outputs": [],
   "source": [
    "#tosave the data in .csv file\n",
    "df_predict.to_csv('gap_train_predict.csv')\n",
    "df_orig.to_csv('gap__train_orig.csv')"
   ]
  },
  {
   "cell_type": "code",
   "execution_count": null,
   "metadata": {},
   "outputs": [],
   "source": [
    "#test on constructed MLIP\n",
    "import datetime\n",
    "ct5 = datetime.datetime.now()\n",
    "\n",
    "df_orig, df_predict = gap.evaluate(test_structures=test_structures, \n",
    "                                   test_energies=test_energies,\n",
    "                                   test_forces=test_forces, test_stresses=None)\n",
    "\n",
    "ct6 = datetime.datetime.now()\n",
    "print(ct5,ct6)"
   ]
  },
  {
   "cell_type": "code",
   "execution_count": null,
   "metadata": {},
   "outputs": [],
   "source": [
    "\n",
    "E_p = np.array(df_predict[df_predict['dtype'] == 'energy']['y_orig'])/df_predict[df_predict['dtype'] == 'energy']['n']\n",
    "E_o = np.array(df_orig[df_orig['dtype'] == 'energy']['y_orig'])/df_orig[df_orig['dtype'] == 'energy']['n']\n",
    "print(\"MAE of test energy prediction is {} meV/atom\".format(mean_absolute_error(E_o,E_p)*1000))\n",
    "\n",
    "F_p = np.array(df_predict[df_predict['dtype'] == 'force']['y_orig'])/df_predict[df_predict['dtype'] == 'force']['n']\n",
    "F_o = np.array(df_orig[df_orig['dtype'] == 'force']['y_orig'])/df_orig[df_orig['dtype'] == 'force']['n']\n",
    "print(\"MAE of test force prediction is {} eV/Å\".format(mean_absolute_error(F_o,F_p)))\n",
    "\n",
    "from sklearn.metrics import mean_squared_error\n",
    "print(\"RMSE of test energy prediction is {} eV/atom\".format(mean_squared_error(E_o,E_p,squared=False)))\n",
    "print(\"RMSE of test force prediction is {} eV/atom\".format(mean_squared_error(F_o,F_p,squared=False)))"
   ]
  },
  {
   "cell_type": "code",
   "execution_count": null,
   "metadata": {},
   "outputs": [],
   "source": [
    "#tosave the data in .csv file\n",
    "df_predict.to_csv('gap_test_predict.csv')\n",
    "df_orig.to_csv('gap_test_orig.csv')"
   ]
  }
 ],
 "metadata": {
  "language_info": {
   "name": "python"
  },
  "orig_nbformat": 4
 },
 "nbformat": 4,
 "nbformat_minor": 2
}
